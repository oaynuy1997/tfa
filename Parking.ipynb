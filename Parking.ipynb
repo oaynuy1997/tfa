{
 "cells": [
  {
   "cell_type": "code",
   "execution_count": 1,
   "id": "9a5618f5",
   "metadata": {},
   "outputs": [],
   "source": [
    "import pandas as pd"
   ]
  },
  {
   "cell_type": "code",
   "execution_count": 2,
   "id": "cbfade9f",
   "metadata": {},
   "outputs": [
    {
     "name": "stderr",
     "output_type": "stream",
     "text": [
      "/Users/yy/opt/anaconda3/lib/python3.8/site-packages/IPython/core/interactiveshell.py:3165: DtypeWarning: Columns (20,31,32) have mixed types.Specify dtype option on import or set low_memory=False.\n",
      "  has_raised = await self.run_ast_nodes(code_ast.body, cell_name,\n"
     ]
    }
   ],
   "source": [
    "data = pd.read_csv('311_Service_Requests_2020.csv')"
   ]
  },
  {
   "cell_type": "code",
   "execution_count": 3,
   "id": "3006f21e",
   "metadata": {},
   "outputs": [],
   "source": [
    "data_zip = data[data['Incident Zip']==10018.0]"
   ]
  },
  {
   "cell_type": "code",
   "execution_count": 27,
   "id": "8e8c342b",
   "metadata": {},
   "outputs": [
    {
     "name": "stdout",
     "output_type": "stream",
     "text": [
      "0.06128842764832583\n"
     ]
    }
   ],
   "source": [
    "incident = pd.Series(data_zip.groupby('Complaint Type').size())\n",
    "parking = incident['Illegal Parking']\n",
    "incident_total = incident.sum()\n",
    "print(parking/incident_total)"
   ]
  },
  {
   "cell_type": "code",
   "execution_count": 29,
   "id": "095c30e1",
   "metadata": {},
   "outputs": [
    {
     "name": "stdout",
     "output_type": "stream",
     "text": [
      "0.07487334365033108\n"
     ]
    }
   ],
   "source": [
    "incident_all = pd.Series(data.groupby('Complaint Type').size())\n",
    "parking_all = incident_all['Illegal Parking']\n",
    "incident_all_total = incident_all.sum()\n",
    "print(parking_all/incident_all_total)"
   ]
  },
  {
   "cell_type": "code",
   "execution_count": 35,
   "id": "e540056b",
   "metadata": {},
   "outputs": [
    {
     "data": {
      "text/plain": [
       "False"
      ]
     },
     "execution_count": 35,
     "metadata": {},
     "output_type": "execute_result"
    }
   ],
   "source": [
    "if parking/incident_total > parking_all/incident_all_total:\n",
    "    higher_parking_proportion = True\n",
    "else:\n",
    "    higher_parking_proportion = False\n",
    "    \n",
    "higher_parking_proportion"
   ]
  },
  {
   "cell_type": "code",
   "execution_count": null,
   "id": "06e8118b",
   "metadata": {},
   "outputs": [],
   "source": []
  }
 ],
 "metadata": {
  "kernelspec": {
   "display_name": "Python 3",
   "language": "python",
   "name": "python3"
  },
  "language_info": {
   "codemirror_mode": {
    "name": "ipython",
    "version": 3
   },
   "file_extension": ".py",
   "mimetype": "text/x-python",
   "name": "python",
   "nbconvert_exporter": "python",
   "pygments_lexer": "ipython3",
   "version": "3.8.8"
  }
 },
 "nbformat": 4,
 "nbformat_minor": 5
}
