{
 "cells": [
  {
   "cell_type": "code",
   "execution_count": 1,
   "id": "4705b536",
   "metadata": {},
   "outputs": [],
   "source": [
    "import pandas as pd"
   ]
  },
  {
   "cell_type": "code",
   "execution_count": 2,
   "id": "19663008",
   "metadata": {},
   "outputs": [
    {
     "name": "stderr",
     "output_type": "stream",
     "text": [
      "/Users/yy/opt/anaconda3/lib/python3.8/site-packages/IPython/core/interactiveshell.py:3165: DtypeWarning: Columns (20,31,32) have mixed types.Specify dtype option on import or set low_memory=False.\n",
      "  has_raised = await self.run_ast_nodes(code_ast.body, cell_name,\n"
     ]
    }
   ],
   "source": [
    "data = pd.read_csv('311_Service_Requests_2020.csv')"
   ]
  },
  {
   "cell_type": "code",
   "execution_count": 3,
   "id": "9a09b522",
   "metadata": {},
   "outputs": [],
   "source": [
    "data_zip = data[data['Incident Zip']==10018.0]"
   ]
  },
  {
   "cell_type": "code",
   "execution_count": 10,
   "id": "d4abebf7",
   "metadata": {},
   "outputs": [],
   "source": [
    "top10 = data_zip.groupby('Complaint Type').size().nlargest(10)"
   ]
  },
  {
   "cell_type": "code",
   "execution_count": 14,
   "id": "d525ba2f",
   "metadata": {},
   "outputs": [
    {
     "data": {
      "text/plain": [
       "Complaint Type\n",
       "Noise - Street/Sidewalk                580\n",
       "NonCompliance with Phased Reopening    502\n",
       "Homeless Person Assistance             496\n",
       "Illegal Parking                        313\n",
       "Homeless Street Condition              309\n",
       "Noise                                  262\n",
       "Non-Emergency Police Matter            256\n",
       "Noise - Residential                    254\n",
       "For Hire Vehicle Complaint             170\n",
       "Street Condition                       158\n",
       "dtype: int64"
      ]
     },
     "execution_count": 14,
     "metadata": {},
     "output_type": "execute_result"
    }
   ],
   "source": [
    "top10"
   ]
  }
 ],
 "metadata": {
  "kernelspec": {
   "display_name": "Python 3",
   "language": "python",
   "name": "python3"
  },
  "language_info": {
   "codemirror_mode": {
    "name": "ipython",
    "version": 3
   },
   "file_extension": ".py",
   "mimetype": "text/x-python",
   "name": "python",
   "nbconvert_exporter": "python",
   "pygments_lexer": "ipython3",
   "version": "3.8.8"
  }
 },
 "nbformat": 4,
 "nbformat_minor": 5
}
